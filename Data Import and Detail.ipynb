{
 "cells": [
  {
   "cell_type": "code",
   "execution_count": 1,
   "metadata": {
    "collapsed": true
   },
   "outputs": [],
   "source": [
    "import pandas as pd"
   ]
  },
  {
   "cell_type": "markdown",
   "metadata": {},
   "source": [
    "### Data Source:   \n",
    "https://www.fhfa.gov/DataTools/Downloads/Pages/Public-Use-Databases.aspx"
   ]
  },
  {
   "cell_type": "markdown",
   "metadata": {},
   "source": [
    "### Import CSV File\n",
    "- add sep = '\\t' for txt files (for excel, see below)\n",
    "- add usecols = ['Year','Bank','MSA'] to limit columns imported\n",
    "- Additional methods: https://pandas.pydata.org/pandas-docs/stable/generated/pandas.read_csv.html"
   ]
  },
  {
   "cell_type": "code",
   "execution_count": 2,
   "metadata": {},
   "outputs": [],
   "source": [
    "mtg_data = pd.read_csv('/mortgage-data/2017_PUDB_Export.csv')"
   ]
  },
  {
   "cell_type": "markdown",
   "metadata": {},
   "source": [
    "### View Number of Records"
   ]
  },
  {
   "cell_type": "code",
   "execution_count": 3,
   "metadata": {},
   "outputs": [
    {
     "data": {
      "text/plain": [
       "55990"
      ]
     },
     "execution_count": 3,
     "metadata": {},
     "output_type": "execute_result"
    }
   ],
   "source": [
    "len(mtg_data)"
   ]
  },
  {
   "cell_type": "markdown",
   "metadata": {},
   "source": [
    "### View Rows"
   ]
  },
  {
   "cell_type": "code",
   "execution_count": 4,
   "metadata": {},
   "outputs": [
    {
     "data": {
      "text/html": [
       "<div>\n",
       "<style>\n",
       "    .dataframe thead tr:only-child th {\n",
       "        text-align: right;\n",
       "    }\n",
       "\n",
       "    .dataframe thead th {\n",
       "        text-align: left;\n",
       "    }\n",
       "\n",
       "    .dataframe tbody tr th {\n",
       "        vertical-align: top;\n",
       "    }\n",
       "</style>\n",
       "<table border=\"1\" class=\"dataframe\">\n",
       "  <thead>\n",
       "    <tr style=\"text-align: right;\">\n",
       "      <th></th>\n",
       "      <th>Year</th>\n",
       "      <th>Assigned ID</th>\n",
       "      <th>Bank</th>\n",
       "      <th>FIPSStateCode</th>\n",
       "      <th>FIPSCountyCode</th>\n",
       "      <th>MSA</th>\n",
       "      <th>FeatureID</th>\n",
       "      <th>Tract</th>\n",
       "      <th>MinPer</th>\n",
       "      <th>TraMedY</th>\n",
       "      <th>...</th>\n",
       "      <th>Corace2</th>\n",
       "      <th>Corace3</th>\n",
       "      <th>Corace4</th>\n",
       "      <th>Corace5</th>\n",
       "      <th>HOEPA</th>\n",
       "      <th>LienStatus</th>\n",
       "      <th>SpcHsgGoals</th>\n",
       "      <th>FedFinStbltyPlan</th>\n",
       "      <th>AcqTyp</th>\n",
       "      <th>GSEREO</th>\n",
       "    </tr>\n",
       "  </thead>\n",
       "  <tbody>\n",
       "    <tr>\n",
       "      <th>0</th>\n",
       "      <td>2017</td>\n",
       "      <td>2092102</td>\n",
       "      <td>Atlanta</td>\n",
       "      <td>72</td>\n",
       "      <td>15</td>\n",
       "      <td>25020</td>\n",
       "      <td>1609553</td>\n",
       "      <td>2802.02</td>\n",
       "      <td>99.15</td>\n",
       "      <td>15863</td>\n",
       "      <td>...</td>\n",
       "      <td>6</td>\n",
       "      <td>6</td>\n",
       "      <td>6</td>\n",
       "      <td>6</td>\n",
       "      <td>2</td>\n",
       "      <td>1</td>\n",
       "      <td>2</td>\n",
       "      <td>2</td>\n",
       "      <td>1</td>\n",
       "      <td>2</td>\n",
       "    </tr>\n",
       "    <tr>\n",
       "      <th>1</th>\n",
       "      <td>2017</td>\n",
       "      <td>2092103</td>\n",
       "      <td>Atlanta</td>\n",
       "      <td>66</td>\n",
       "      <td>10</td>\n",
       "      <td>99999</td>\n",
       "      <td>9999999999</td>\n",
       "      <td>9540.00</td>\n",
       "      <td>92.90</td>\n",
       "      <td>75804</td>\n",
       "      <td>...</td>\n",
       "      <td>6</td>\n",
       "      <td>6</td>\n",
       "      <td>6</td>\n",
       "      <td>6</td>\n",
       "      <td>2</td>\n",
       "      <td>1</td>\n",
       "      <td>2</td>\n",
       "      <td>2</td>\n",
       "      <td>1</td>\n",
       "      <td>2</td>\n",
       "    </tr>\n",
       "    <tr>\n",
       "      <th>2</th>\n",
       "      <td>2017</td>\n",
       "      <td>2092104</td>\n",
       "      <td>Atlanta</td>\n",
       "      <td>66</td>\n",
       "      <td>10</td>\n",
       "      <td>99999</td>\n",
       "      <td>1389637</td>\n",
       "      <td>9563.00</td>\n",
       "      <td>92.90</td>\n",
       "      <td>49250</td>\n",
       "      <td>...</td>\n",
       "      <td>6</td>\n",
       "      <td>6</td>\n",
       "      <td>6</td>\n",
       "      <td>6</td>\n",
       "      <td>2</td>\n",
       "      <td>1</td>\n",
       "      <td>2</td>\n",
       "      <td>2</td>\n",
       "      <td>1</td>\n",
       "      <td>2</td>\n",
       "    </tr>\n",
       "    <tr>\n",
       "      <th>3</th>\n",
       "      <td>2017</td>\n",
       "      <td>2092105</td>\n",
       "      <td>Atlanta</td>\n",
       "      <td>48</td>\n",
       "      <td>439</td>\n",
       "      <td>19100</td>\n",
       "      <td>1337443</td>\n",
       "      <td>1141.03</td>\n",
       "      <td>25.31</td>\n",
       "      <td>102791</td>\n",
       "      <td>...</td>\n",
       "      <td>6</td>\n",
       "      <td>6</td>\n",
       "      <td>6</td>\n",
       "      <td>6</td>\n",
       "      <td>2</td>\n",
       "      <td>1</td>\n",
       "      <td>2</td>\n",
       "      <td>2</td>\n",
       "      <td>1</td>\n",
       "      <td>2</td>\n",
       "    </tr>\n",
       "    <tr>\n",
       "      <th>4</th>\n",
       "      <td>2017</td>\n",
       "      <td>2092106</td>\n",
       "      <td>Atlanta</td>\n",
       "      <td>6</td>\n",
       "      <td>99</td>\n",
       "      <td>33700</td>\n",
       "      <td>277574</td>\n",
       "      <td>32.02</td>\n",
       "      <td>71.74</td>\n",
       "      <td>58235</td>\n",
       "      <td>...</td>\n",
       "      <td>6</td>\n",
       "      <td>6</td>\n",
       "      <td>6</td>\n",
       "      <td>6</td>\n",
       "      <td>2</td>\n",
       "      <td>1</td>\n",
       "      <td>2</td>\n",
       "      <td>2</td>\n",
       "      <td>1</td>\n",
       "      <td>2</td>\n",
       "    </tr>\n",
       "  </tbody>\n",
       "</table>\n",
       "<p>5 rows × 82 columns</p>\n",
       "</div>"
      ],
      "text/plain": [
       "   Year  Assigned ID     Bank  FIPSStateCode  FIPSCountyCode    MSA  \\\n",
       "0  2017      2092102  Atlanta             72              15  25020   \n",
       "1  2017      2092103  Atlanta             66              10  99999   \n",
       "2  2017      2092104  Atlanta             66              10  99999   \n",
       "3  2017      2092105  Atlanta             48             439  19100   \n",
       "4  2017      2092106  Atlanta              6              99  33700   \n",
       "\n",
       "    FeatureID    Tract  MinPer  TraMedY   ...    Corace2  Corace3  Corace4  \\\n",
       "0     1609553  2802.02   99.15    15863   ...          6        6        6   \n",
       "1  9999999999  9540.00   92.90    75804   ...          6        6        6   \n",
       "2     1389637  9563.00   92.90    49250   ...          6        6        6   \n",
       "3     1337443  1141.03   25.31   102791   ...          6        6        6   \n",
       "4      277574    32.02   71.74    58235   ...          6        6        6   \n",
       "\n",
       "   Corace5  HOEPA  LienStatus  SpcHsgGoals  FedFinStbltyPlan  AcqTyp  GSEREO  \n",
       "0        6      2           1            2                 2       1       2  \n",
       "1        6      2           1            2                 2       1       2  \n",
       "2        6      2           1            2                 2       1       2  \n",
       "3        6      2           1            2                 2       1       2  \n",
       "4        6      2           1            2                 2       1       2  \n",
       "\n",
       "[5 rows x 82 columns]"
      ]
     },
     "execution_count": 4,
     "metadata": {},
     "output_type": "execute_result"
    }
   ],
   "source": [
    "mtg_data.head()"
   ]
  },
  {
   "cell_type": "markdown",
   "metadata": {},
   "source": [
    "### View Columns"
   ]
  },
  {
   "cell_type": "code",
   "execution_count": 5,
   "metadata": {
    "scrolled": true
   },
   "outputs": [
    {
     "data": {
      "text/plain": [
       "['Year',\n",
       " 'Assigned ID',\n",
       " 'Bank',\n",
       " 'FIPSStateCode',\n",
       " 'FIPSCountyCode',\n",
       " 'MSA',\n",
       " 'FeatureID',\n",
       " 'Tract',\n",
       " 'MinPer',\n",
       " 'TraMedY',\n",
       " 'LocMedY',\n",
       " 'Tractrat',\n",
       " 'Income',\n",
       " 'CurAreY',\n",
       " 'IncRat',\n",
       " 'UPB',\n",
       " 'LTV',\n",
       " 'MortDate',\n",
       " 'AcquDate',\n",
       " 'Purpose',\n",
       " 'Coop',\n",
       " 'Product',\n",
       " 'FedGuar',\n",
       " 'Term',\n",
       " 'AmorTerm',\n",
       " 'SellType',\n",
       " 'NumBor',\n",
       " 'First',\n",
       " 'CICA',\n",
       " 'BoRace',\n",
       " 'CoRace',\n",
       " 'BoGender',\n",
       " 'CoGender',\n",
       " 'BoAge',\n",
       " 'CoAge',\n",
       " 'Occup',\n",
       " 'NumUnits',\n",
       " 'Bed1',\n",
       " 'Bed2',\n",
       " 'Bed3',\n",
       " 'Bed4',\n",
       " 'Aff1',\n",
       " 'Aff2',\n",
       " 'Aff3',\n",
       " 'Aff4',\n",
       " 'Rent1',\n",
       " 'Rent2',\n",
       " 'Rent3',\n",
       " 'Rent4',\n",
       " 'RentUt1',\n",
       " 'RentUt2',\n",
       " 'RentUt3',\n",
       " 'RentUt4',\n",
       " 'Geog',\n",
       " 'Rate',\n",
       " 'Amount',\n",
       " 'Front',\n",
       " 'Back',\n",
       " 'BoCreditScor',\n",
       " 'CoBoCreditScor',\n",
       " 'PMI',\n",
       " 'Self',\n",
       " 'PropType',\n",
       " 'ArmIndex',\n",
       " 'ArmMarg',\n",
       " 'PrepayP',\n",
       " 'BoEth',\n",
       " 'Race2',\n",
       " 'Race3',\n",
       " 'Race4',\n",
       " 'Race5',\n",
       " 'CoEth',\n",
       " 'Corace2',\n",
       " 'Corace3',\n",
       " 'Corace4',\n",
       " 'Corace5',\n",
       " 'HOEPA',\n",
       " 'LienStatus',\n",
       " 'SpcHsgGoals',\n",
       " 'FedFinStbltyPlan',\n",
       " 'AcqTyp',\n",
       " 'GSEREO']"
      ]
     },
     "execution_count": 5,
     "metadata": {},
     "output_type": "execute_result"
    }
   ],
   "source": [
    "list(mtg_data)"
   ]
  },
  {
   "cell_type": "markdown",
   "metadata": {},
   "source": [
    "### Import Excel Data\n",
    "- Additional methods: https://pandas.pydata.org/pandas-docs/stable/generated/pandas.read_excel.html"
   ]
  },
  {
   "cell_type": "code",
   "execution_count": 6,
   "metadata": {},
   "outputs": [],
   "source": [
    "mtg_excel = pd.read_excel('/mortgage-data/2017_PUDB_Export.xlsx',sheet_name='Sheet1')"
   ]
  }
 ],
 "metadata": {
  "kernelspec": {
   "display_name": "Python 2",
   "language": "python",
   "name": "python2"
  },
  "language_info": {
   "codemirror_mode": {
    "name": "ipython",
    "version": 2
   },
   "file_extension": ".py",
   "mimetype": "text/x-python",
   "name": "python",
   "nbconvert_exporter": "python",
   "pygments_lexer": "ipython2",
   "version": "2.7.14"
  }
 },
 "nbformat": 4,
 "nbformat_minor": 2
}
